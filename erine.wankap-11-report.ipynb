{
 "cells": [
  {
   "cell_type": "markdown",
   "id": "946dcae8",
   "metadata": {},
   "source": [
    "# Practical_6: Numpy"
   ]
  },
  {
   "cell_type": "markdown",
   "id": "computational-adobe",
   "metadata": {},
   "source": [
    "---\n",
    "\n",
    "### Exercise 1:\n",
    "Create a NumPy array of integers from 1 to 10.\n",
    "\n",
    "```python\n",
    "# Exercise 1\n",
    "```\n",
    "\n",
    "---"
   ]
  },
  {
   "cell_type": "code",
   "execution_count": 5,
   "id": "dress-metabolism",
   "metadata": {},
   "outputs": [
    {
     "name": "stdout",
     "output_type": "stream",
     "text": [
      "[ 1  2  3  4  5  6  7  8  9 10]\n"
     ]
    }
   ],
   "source": [
    "import numpy as np\n",
    "x=np.arange(1,11)\n",
    "print(x)"
   ]
  },
  {
   "cell_type": "markdown",
   "id": "sized-symbol",
   "metadata": {},
   "source": [
    "### Exercise 2:\n",
    "Create a 3x3 NumPy array filled with zeros.\n",
    "\n",
    "```python\n",
    "# Exercise 2\n",
    "```"
   ]
  },
  {
   "cell_type": "code",
   "execution_count": 8,
   "id": "comic-russian",
   "metadata": {},
   "outputs": [
    {
     "name": "stdout",
     "output_type": "stream",
     "text": [
      "[[0 0 0]\n",
      " [0 0 0]\n",
      " [0 0 0]]\n"
     ]
    }
   ],
   "source": [
    "import numpy as np\n",
    "v=np.array([[0,0,0],[0,0,0],[0,0,0]])\n",
    "print(v)"
   ]
  },
  {
   "cell_type": "markdown",
   "id": "dangerous-arrest",
   "metadata": {},
   "source": [
    "---\n",
    "\n",
    "### Exercise 3:\n",
    "Create a NumPy array of 10 evenly spaced numbers between 0 and 5.\n",
    "\n",
    "```python\n",
    "# Exercise 3\n",
    "```"
   ]
  },
  {
   "cell_type": "code",
   "execution_count": 13,
   "id": "personalized-county",
   "metadata": {},
   "outputs": [
    {
     "name": "stdout",
     "output_type": "stream",
     "text": [
      "[0.         0.55555556 1.11111111 1.66666667 2.22222222 2.77777778\n",
      " 3.33333333 3.88888889 4.44444444 5.        ]\n"
     ]
    }
   ],
   "source": [
    "import numpy as np\n",
    "v=np.linspace(0,5,10)\n",
    "print(v)"
   ]
  },
  {
   "cell_type": "markdown",
   "id": "undefined-egypt",
   "metadata": {},
   "source": [
    "---\n",
    "\n",
    "### Exercise 4:\n",
    "Create a 5x5 identity matrix using NumPy.\n",
    "\n",
    "```python\n",
    "# Exercise 4\n",
    "```\n",
    "\n",
    "---"
   ]
  },
  {
   "cell_type": "code",
   "execution_count": 29,
   "id": "right-facial",
   "metadata": {},
   "outputs": [
    {
     "name": "stdout",
     "output_type": "stream",
     "text": [
      "[[1. 0. 0. 0. 0.]\n",
      " [0. 1. 0. 0. 0.]\n",
      " [0. 0. 1. 0. 0.]\n",
      " [0. 0. 0. 1. 0.]\n",
      " [0. 0. 0. 0. 1.]]\n"
     ]
    }
   ],
   "source": [
    "import numpy as np\n",
    "v=np.eye(5)\n",
    "print(v)"
   ]
  },
  {
   "cell_type": "code",
   "execution_count": 38,
   "id": "exact-revelation",
   "metadata": {},
   "outputs": [],
   "source": [
    "x3 = np.random.randint(10, size=(3, 4, 5))"
   ]
  },
  {
   "cell_type": "markdown",
   "id": "published-little",
   "metadata": {},
   "source": [
    "### Exercise 5:\n",
    "Create a 4x4 matrix with random values between 0 and 1.\n",
    "\n",
    "```python\n",
    "# Exercise 5\n",
    "```\n",
    "\n",
    "---"
   ]
  },
  {
   "cell_type": "code",
   "execution_count": 30,
   "id": "ordered-friday",
   "metadata": {},
   "outputs": [
    {
     "name": "stdout",
     "output_type": "stream",
     "text": [
      "[[0.73130019 0.96990311 0.97251527 0.03598455]\n",
      " [0.74352662 0.08476217 0.07105049 0.37109127]\n",
      " [0.23213094 0.31076197 0.82328429 0.64932308]\n",
      " [0.26712489 0.8508213  0.74466012 0.46755089]]\n"
     ]
    }
   ],
   "source": [
    "m_r = np.random.random((4,4))\n",
    "print(m_r)"
   ]
  },
  {
   "cell_type": "markdown",
   "id": "distinguished-message",
   "metadata": {},
   "source": [
    "### Exercise 6:\n",
    "Find the shape of a NumPy array.\n",
    "\n",
    "```python\n",
    "# Exercise 6\n",
    "```\n",
    "\n",
    "---"
   ]
  },
  {
   "cell_type": "code",
   "execution_count": 31,
   "id": "afraid-audience",
   "metadata": {},
   "outputs": [
    {
     "name": "stdout",
     "output_type": "stream",
     "text": [
      "(4, 4)\n"
     ]
    }
   ],
   "source": [
    "import numpy as np\n",
    "v=np.array([[0,0,0],[0,0,0],[0,0,0]])\n",
    "print(grip.shape)\n",
    "#v.shape()"
   ]
  },
  {
   "cell_type": "markdown",
   "id": "ongoing-joining",
   "metadata": {},
   "source": [
    "### Exercise 7:\n",
    "Reshape a 1D NumPy array of 16 elements into a 4x4 matrix.\n",
    "\n",
    "```python\n",
    "# Exercise 7\n",
    "```\n",
    "\n",
    "---"
   ]
  },
  {
   "cell_type": "code",
   "execution_count": 24,
   "id": "collected-destination",
   "metadata": {
    "scrolled": true
   },
   "outputs": [
    {
     "name": "stdout",
     "output_type": "stream",
     "text": [
      "[[ 1  2  3  4]\n",
      " [ 5  6  7  8]\n",
      " [ 9 10 11 12]\n",
      " [13 14 15 16]]\n"
     ]
    }
   ],
   "source": [
    "grip=np.arange(1,17).reshape(4,4)\n",
    "print(grip)"
   ]
  },
  {
   "cell_type": "markdown",
   "id": "accepting-tribute",
   "metadata": {},
   "source": [
    "### Exercise 8:\n",
    "Find the data type of the elements in a NumPy array.\n",
    "\n",
    "```python\n",
    "# Exercise 8\n",
    "```\n",
    "\n",
    "---"
   ]
  },
  {
   "cell_type": "code",
   "execution_count": 32,
   "id": "coastal-beads",
   "metadata": {},
   "outputs": [
    {
     "name": "stdout",
     "output_type": "stream",
     "text": [
      "int64\n"
     ]
    }
   ],
   "source": [
    "n=np.array([[1,2,3],[4,5,6],[7,8,9]])\n",
    "print(n.dtype)"
   ]
  },
  {
   "cell_type": "markdown",
   "id": "skilled-mirror",
   "metadata": {},
   "source": [
    "### Exercise 9:\n",
    "Create a NumPy array of integers from 1 to 100 and find all even numbers in the array.\n",
    "\n",
    "```python\n",
    "# Exercise 9\n",
    "```"
   ]
  },
  {
   "cell_type": "code",
   "execution_count": 37,
   "id": "boxed-territory",
   "metadata": {},
   "outputs": [
    {
     "name": "stdout",
     "output_type": "stream",
     "text": [
      "[1, 3, 5, 7, 9, 11, 13, 15, 17, 19, 21, 23, 25, 27, 29, 31, 33, 35, 37, 39, 41, 43, 45, 47, 49, 51, 53, 55, 57, 59, 61, 63, 65, 67, 69, 71, 73, 75, 77, 79, 81, 83, 85, 87, 89, 91, 93, 95, 97, 99]\n"
     ]
    }
   ],
   "source": [
    "n=np.arange(1,101)\n",
    "l=list()\n",
    "for i in n:\n",
    "    if i in n and i%2!=0:\n",
    "        l.append(i)\n",
    "print(l)"
   ]
  },
  {
   "cell_type": "markdown",
   "id": "vocal-pixel",
   "metadata": {},
   "source": [
    "---\n",
    "\n",
    "### Exercise 10:\n",
    "Generate a 6x6 matrix of random integers between 10 and 50.\n",
    "\n",
    "```python\n",
    "# Exercise 10\n",
    "```"
   ]
  },
  {
   "cell_type": "code",
   "execution_count": 39,
   "id": "educated-fortune",
   "metadata": {},
   "outputs": [
    {
     "name": "stdout",
     "output_type": "stream",
     "text": [
      "[[[18 35 40 35 29 21]\n",
      "  [32 38 43 40 27 13]\n",
      "  [20 38 48 49 48 29]\n",
      "  [21 33 17 12 40 18]\n",
      "  [48 18 45 20 43 45]\n",
      "  [16 21 30 13 48 13]]]\n"
     ]
    }
   ],
   "source": [
    "v = np.random.randint(10, 50,size=(1, 6, 6))\n",
    "print(v)"
   ]
  },
  {
   "cell_type": "markdown",
   "id": "vulnerable-cabinet",
   "metadata": {},
   "source": [
    "---\n",
    "\n",
    "### Exercise 11:\n",
    "Slice a 2D NumPy array to extract a submatrix.\n",
    "\n",
    "```python\n",
    "# Exercise 11\n",
    "```\n",
    "\n",
    "---"
   ]
  },
  {
   "cell_type": "code",
   "execution_count": null,
   "id": "continuing-vietnam",
   "metadata": {},
   "outputs": [],
   "source": []
  },
  {
   "cell_type": "markdown",
   "id": "drawn-shift",
   "metadata": {},
   "source": [
    "### Exercise 12:\n",
    "Calculate the sum of all elements in a NumPy array.\n",
    "\n",
    "```python\n",
    "# Exercise 12\n",
    "```\n",
    "\n",
    "---"
   ]
  },
  {
   "cell_type": "markdown",
   "id": "behind-channels",
   "metadata": {},
   "source": [
    "### Exercise 13:\n",
    "Calculate the mean, median, and standard deviation of a NumPy array.\n",
    "\n",
    "```python\n",
    "# Exercise 13\n",
    "```\n",
    "\n",
    "---"
   ]
  },
  {
   "cell_type": "code",
   "execution_count": 45,
   "id": "fifteen-brake",
   "metadata": {},
   "outputs": [
    {
     "name": "stdout",
     "output_type": "stream",
     "text": [
      "[[32.  35.  43.  19.5 44.  18.5]]\n"
     ]
    }
   ],
   "source": [
    "b=np.median(v,axis=2)\n",
    "print(b)"
   ]
  },
  {
   "cell_type": "code",
   "execution_count": 46,
   "id": "limited-prevention",
   "metadata": {},
   "outputs": [
    {
     "name": "stdout",
     "output_type": "stream",
     "text": [
      "[[25.83333333 30.5        37.16666667 28.16666667 39.16666667 23.16666667]]\n"
     ]
    }
   ],
   "source": [
    "c=np.mean(v,axis=1)\n",
    "print(c)"
   ]
  },
  {
   "cell_type": "code",
   "execution_count": 47,
   "id": "pharmaceutical-modern",
   "metadata": {},
   "outputs": [
    {
     "name": "stdout",
     "output_type": "stream",
     "text": [
      "[[[18 35 40 35 29 21]\n",
      "  [32 38 43 40 27 13]\n",
      "  [20 38 48 49 48 29]\n",
      "  [21 33 17 12 40 18]\n",
      "  [48 18 45 20 43 45]\n",
      "  [16 21 30 13 48 13]]]\n"
     ]
    }
   ],
   "source": [
    "print(v)"
   ]
  },
  {
   "cell_type": "markdown",
   "id": "juvenile-auditor",
   "metadata": {},
   "source": [
    "### Exercise 14:\n",
    "Find the maximum and minimum values in a NumPy array.\n",
    "\n",
    "```python\n",
    "# Exercise 14\n",
    "```\n",
    "\n",
    "---"
   ]
  },
  {
   "cell_type": "code",
   "execution_count": 50,
   "id": "unusual-heritage",
   "metadata": {},
   "outputs": [
    {
     "name": "stdout",
     "output_type": "stream",
     "text": [
      "12\n"
     ]
    }
   ],
   "source": [
    "min_v=np.min(v)\n",
    "#min_v=np.min(v, axis=1)\n",
    "print(min_v)"
   ]
  },
  {
   "cell_type": "code",
   "execution_count": 51,
   "id": "earned-method",
   "metadata": {},
   "outputs": [
    {
     "name": "stdout",
     "output_type": "stream",
     "text": [
      "49\n"
     ]
    }
   ],
   "source": [
    "max_v=np.max(v)\n",
    "#min_v=np.min(v, axis=1)\n",
    "print(max_v)"
   ]
  },
  {
   "cell_type": "markdown",
   "id": "moderate-employee",
   "metadata": {},
   "source": [
    "### Exercise 15:\n",
    "Create a NumPy array of 20 random integers and find the index of the maximum value.\n",
    "\n",
    "```python\n",
    "# Exercise 15\n",
    "```\n",
    "\n",
    "---"
   ]
  },
  {
   "cell_type": "code",
   "execution_count": 64,
   "id": "textile-consequence",
   "metadata": {},
   "outputs": [
    {
     "name": "stdout",
     "output_type": "stream",
     "text": [
      "[[12  1  1  5 16  0  6  6  9]\n",
      " [13 18  6 14  4  7  4 10  5]\n",
      " [ 1 10 17 13  2 14 18  0  0]\n",
      " [18  0 12 11 11 17 16 12  4]\n",
      " [11  4 13 12 19 14 18 13 14]]\n"
     ]
    }
   ],
   "source": [
    "n=np.random.randint(20,size=(5,9))\n",
    "print(n)"
   ]
  },
  {
   "cell_type": "code",
   "execution_count": 63,
   "id": "sized-maryland",
   "metadata": {},
   "outputs": [
    {
     "name": "stdout",
     "output_type": "stream",
     "text": [
      "19\n"
     ]
    }
   ],
   "source": [
    "mx_n=np.max(n)\n",
    "print(mx_n)"
   ]
  },
  {
   "cell_type": "markdown",
   "id": "utility-petersburg",
   "metadata": {},
   "source": [
    "### Exercise 16:\n",
    "Create a NumPy array and reverse its elements.\n",
    "\n",
    "```python\n",
    "# Exercise 16\n",
    "```\n",
    "\n",
    "---"
   ]
  },
  {
   "cell_type": "code",
   "execution_count": 66,
   "id": "inappropriate-modem",
   "metadata": {},
   "outputs": [
    {
     "name": "stdout",
     "output_type": "stream",
     "text": [
      "[[38 24 16 31 29]\n",
      " [ 9 36 28  8  5]\n",
      " [28 11  1 21  1]\n",
      " [ 2 17 32 19 18]\n",
      " [ 0 14 35  1 19]]\n",
      "[[-0.00467216 -0.00986586  0.04839003 -0.04429313  0.04914253]\n",
      " [ 0.02320143  0.0439228  -0.04531088 -0.00412747 -0.04067633]\n",
      " [-0.03497774 -0.0139337   0.05173043  0.0030527   0.05143915]\n",
      " [-0.00652848 -0.00889259  0.00733621  0.06135087 -0.04620331]\n",
      " [ 0.0476805  -0.00622881 -0.06229205 -0.0058111  -0.00972097]]\n"
     ]
    }
   ],
   "source": [
    "o=np.random.randint(40,size=(5,5))\n",
    "c= np.linalg.inv(o)\n",
    "print(o)\n",
    "print(\"=========================================================================\")\n",
    "\n",
    "\n",
    "print(c)"
   ]
  },
  {
   "cell_type": "markdown",
   "id": "mature-schema",
   "metadata": {},
   "source": [
    "### Exercise 17:\n",
    "Create a 3x3 matrix and multiply it element-wise by another 3x3 matrix.\n",
    "\n",
    "```python\n",
    "# Exercise 17\n",
    "```\n",
    "\n",
    "---"
   ]
  },
  {
   "cell_type": "code",
   "execution_count": 78,
   "id": "broken-barcelona",
   "metadata": {},
   "outputs": [
    {
     "name": "stdout",
     "output_type": "stream",
     "text": [
      "[[ 1.00000000e+00  2.86229374e-17  2.08166817e-17  2.48065457e-16\n",
      "  -1.73472348e-16]\n",
      " [ 7.63278329e-17  1.00000000e+00  7.63278329e-17  3.98986399e-17\n",
      "   4.85722573e-17]\n",
      " [-6.93889390e-18 -5.11743425e-17  1.00000000e+00  2.48065457e-16\n",
      "   9.02056208e-17]\n",
      " [-1.38777878e-17 -1.90819582e-17  9.71445147e-17  1.00000000e+00\n",
      "   1.52655666e-16]\n",
      " [ 9.02056208e-17 -2.86229374e-17  9.02056208e-17  1.73472348e-18\n",
      "   1.00000000e+00]]\n"
     ]
    }
   ],
   "source": [
    "d=np.dot(o,c)\n",
    "\n",
    "\n",
    "print(d)"
   ]
  },
  {
   "cell_type": "code",
   "execution_count": 81,
   "id": "distinguished-field",
   "metadata": {},
   "outputs": [
    {
     "name": "stdout",
     "output_type": "stream",
     "text": [
      "[[-0.53262569 -0.71034167  2.32272149 -4.11926136  4.27540045]\n",
      " [ 0.62643871  4.74366277 -3.80611431 -0.09905933 -0.6101449 ]\n",
      " [-2.93813047 -0.45981196  0.1551913   0.19232037  0.15431746]\n",
      " [-0.03917091 -0.45352201  0.70427647  3.4969997  -2.49497879]\n",
      " [ 0.         -0.26160984 -6.54066538 -0.0174333  -0.55409557]]\n"
     ]
    }
   ],
   "source": [
    "z=np.dot(o*c,3)\n",
    "print(z)"
   ]
  },
  {
   "cell_type": "markdown",
   "id": "complicated-tattoo",
   "metadata": {},
   "source": [
    "### Exercise 18:\n",
    "Create a diagonal matrix from a given 1D array.\n",
    "\n",
    "```python\n",
    "# Exercise 18\n",
    "```\n",
    "\n",
    "---"
   ]
  },
  {
   "cell_type": "code",
   "execution_count": 82,
   "id": "greater-optics",
   "metadata": {},
   "outputs": [
    {
     "name": "stdout",
     "output_type": "stream",
     "text": [
      "[38 36  1 19 19]\n"
     ]
    }
   ],
   "source": [
    "f=np.diag(o)\n",
    "print(f)"
   ]
  },
  {
   "cell_type": "markdown",
   "id": "ecological-consultation",
   "metadata": {},
   "source": [
    "### Exercise 19:\n",
    "Perform matrix multiplication on two 2D NumPy arrays.\n",
    "\n",
    "```python\n",
    "# Exercise 19\n",
    "```\n",
    "\n",
    "---"
   ]
  },
  {
   "cell_type": "code",
   "execution_count": 102,
   "id": "convenient-branch",
   "metadata": {},
   "outputs": [
    {
     "name": "stdout",
     "output_type": "stream",
     "text": [
      "[[1 9 8]\n",
      " [6 7 9]\n",
      " [1 6 1]]\n",
      "[[3 0 8]\n",
      " [7 7 9]\n",
      " [1 8 6]]\n",
      "[[ 74 127 137]\n",
      " [ 76 121 165]\n",
      " [ 46  50  68]]\n"
     ]
    }
   ],
   "source": [
    "p=np.random.randint(10,size=(3,3))\n",
    "q=np.random.randint(10,size=(3,3))\n",
    "h=np.dot(p,q)\n",
    "print(p)\n",
    "print(\"=========================================================================\")\n",
    "\n",
    "\n",
    "\n",
    "print(q)\n",
    "print(\"=========================================================================\")\n",
    "\n",
    "\n",
    "print(h)"
   ]
  },
  {
   "cell_type": "markdown",
   "id": "artificial-landing",
   "metadata": {},
   "source": [
    "# Exercise 21:\n",
    "\n",
    "Stack two NumPy arrays vertically.\n",
    "\n"
   ]
  },
  {
   "cell_type": "code",
   "execution_count": 103,
   "id": "frequent-halloween",
   "metadata": {},
   "outputs": [
    {
     "data": {
      "text/plain": [
       "array([[1, 9, 8],\n",
       "       [6, 7, 9],\n",
       "       [1, 6, 1],\n",
       "       [3, 0, 8],\n",
       "       [7, 7, 9],\n",
       "       [1, 8, 6]])"
      ]
     },
     "execution_count": 103,
     "metadata": {},
     "output_type": "execute_result"
    }
   ],
   "source": [
    "np.vstack([p,q])"
   ]
  },
  {
   "cell_type": "markdown",
   "id": "abstract-taste",
   "metadata": {},
   "source": [
    "# Exercise 20:\n",
    "\n",
    "Flatten a 2D NumPy array into a 1D array.\n",
    "\n",
    "\n"
   ]
  },
  {
   "cell_type": "code",
   "execution_count": 108,
   "id": "painful-cardiff",
   "metadata": {},
   "outputs": [
    {
     "name": "stdout",
     "output_type": "stream",
     "text": [
      "[[1 0]\n",
      " [9 6]]\n"
     ]
    },
    {
     "data": {
      "text/plain": [
       "array([1, 0, 9, 6])"
      ]
     },
     "execution_count": 108,
     "metadata": {},
     "output_type": "execute_result"
    }
   ],
   "source": [
    "k=np.random.randint(10,size=(2,2))\n",
    "print(k)\n",
    "print(\"=========================================================================\")\n",
    "\n",
    "\n",
    "k.flatten()"
   ]
  },
  {
   "cell_type": "markdown",
   "id": "hairy-netherlands",
   "metadata": {},
   "source": [
    "# Exercise 22:\n",
    "\n",
    "Stack two NumPy arrays horizontally.\n",
    "\n",
    "\n"
   ]
  },
  {
   "cell_type": "code",
   "execution_count": 111,
   "id": "chubby-librarian",
   "metadata": {},
   "outputs": [
    {
     "name": "stdout",
     "output_type": "stream",
     "text": [
      "[[0 3 7 5 4]\n",
      " [7 2 8 4 6]\n",
      " [6 4 5 6 4]\n",
      " [7 7 3 1 3]\n",
      " [5 2 7 2 3]]\n",
      "[[1 8 3 1 4]\n",
      " [9 3 1 4 4]\n",
      " [0 5 1 2 4]\n",
      " [9 6 1 0 4]\n",
      " [7 2 0 2 1]]\n"
     ]
    },
    {
     "data": {
      "text/plain": [
       "array([[0, 3, 7, 5, 4, 1, 8, 3, 1, 4],\n",
       "       [7, 2, 8, 4, 6, 9, 3, 1, 4, 4],\n",
       "       [6, 4, 5, 6, 4, 0, 5, 1, 2, 4],\n",
       "       [7, 7, 3, 1, 3, 9, 6, 1, 0, 4],\n",
       "       [5, 2, 7, 2, 3, 7, 2, 0, 2, 1]])"
      ]
     },
     "execution_count": 111,
     "metadata": {},
     "output_type": "execute_result"
    }
   ],
   "source": [
    "l=np.random.randint(10,size=(5,5))\n",
    "i=np.random.randint(10,size=(5,5))\n",
    "print(l)\n",
    "print(\"=========================================================================\")\n",
    "\n",
    "print(i)\n",
    "print(\"=========================================================================\")\n",
    "\n",
    "\n",
    "np.hstack([l,i])"
   ]
  },
  {
   "cell_type": "markdown",
   "id": "skilled-winner",
   "metadata": {},
   "source": [
    "# Exercise 23:\n",
    "\n",
    "Split a NumPy array into multiple sub-arrays.\n",
    "\n",
    "\n"
   ]
  },
  {
   "cell_type": "code",
   "execution_count": null,
   "id": "neural-russia",
   "metadata": {},
   "outputs": [],
   "source": [
    "n=np.array([1,2,3,4,5,6,7,8,9,10,11,12,13,14,15,16])\n",
    "x=np.split(n)\n",
    "print(n)\n",
    "print(x)"
   ]
  },
  {
   "cell_type": "markdown",
   "id": "economic-creation",
   "metadata": {},
   "source": [
    "# Exercise 24:\n",
    "\n",
    "Generate a random NumPy array and round each element to two decimal places."
   ]
  },
  {
   "cell_type": "code",
   "execution_count": 55,
   "id": "tribal-salem",
   "metadata": {
    "scrolled": true
   },
   "outputs": [
    {
     "name": "stdout",
     "output_type": "stream",
     "text": [
      "[[0.92477118 0.28595324 0.11121934 0.75400523 0.42749216]\n",
      " [0.56833774 0.02627061 0.28911392 0.89360078 0.85421097]\n",
      " [0.79978599 0.42041603 0.06387449 0.04263369 0.45073929]\n",
      " [0.754462   0.15926358 0.25932906 0.41748865 0.39003037]\n",
      " [0.28511446 0.2840971  0.1175647  0.23338432 0.37948258]]\n",
      "=========================================================================\n",
      "[[0.92 0.29 0.11 0.75 0.43]\n",
      " [0.57 0.03 0.29 0.89 0.85]\n",
      " [0.8  0.42 0.06 0.04 0.45]\n",
      " [0.75 0.16 0.26 0.42 0.39]\n",
      " [0.29 0.28 0.12 0.23 0.38]]\n"
     ]
    }
   ],
   "source": [
    "import numpy as np\n",
    "k=np.random.random((5,5))\n",
    "c=np.round(k,2)\n",
    "print(k)\n",
    "print(\"=========================================================================\")\n",
    "\n",
    "print(c)"
   ]
  },
  {
   "cell_type": "markdown",
   "id": "packed-position",
   "metadata": {},
   "source": [
    "# Exercise 25:\n",
    "\n",
    "Find the unique elements of a NumPy array.\n",
    "\n",
    "\n"
   ]
  },
  {
   "cell_type": "code",
   "execution_count": 8,
   "id": "sound-scheme",
   "metadata": {},
   "outputs": [
    {
     "name": "stdout",
     "output_type": "stream",
     "text": [
      "[[2 7 5 9]\n",
      " [5 6 5 9]\n",
      " [4 4 7 9]\n",
      " [9 2 8 0]]\n",
      "[0 2 4 5 6 7 8 9]\n"
     ]
    }
   ],
   "source": [
    "t=np.random.randint(10,size=(4,4))\n",
    "d=np.unique(t)\n",
    "print(t)\n",
    "print(d)"
   ]
  },
  {
   "cell_type": "markdown",
   "id": "boolean-border",
   "metadata": {},
   "source": [
    "\n",
    "# Exercise 26:\n",
    "\n",
    "Replace all elements in a NumPy array that are less than a specific value with that value.\n",
    "\n",
    "\n"
   ]
  },
  {
   "cell_type": "code",
   "execution_count": 13,
   "id": "editorial-balloon",
   "metadata": {},
   "outputs": [
    {
     "name": "stdout",
     "output_type": "stream",
     "text": [
      "modify matrix: \n",
      " [[12  2  2  2]\n",
      " [ 2 14  2  2]\n",
      " [ 2 14  2 15]\n",
      " [11  2  2  2]]\n"
     ]
    }
   ],
   "source": [
    "T=np.random.randint(20,size=(4,4))\n",
    "T[T<10]=2\n",
    "print('modify matrix: \\n',T)"
   ]
  },
  {
   "cell_type": "markdown",
   "id": "sporting-bennett",
   "metadata": {},
   "source": [
    "\n",
    "# Exercise 27:\n",
    "\n",
    "Find the cumulative sum of the elements in a NumPy array"
   ]
  },
  {
   "cell_type": "code",
   "execution_count": 53,
   "id": "random-exception",
   "metadata": {},
   "outputs": [
    {
     "name": "stdout",
     "output_type": "stream",
     "text": [
      "[[ 5 18 12]\n",
      " [ 2 10  9]\n",
      " [14 18 11]]\n",
      "=========================================================================\n",
      "[ 5 23 35 37 47 56 70 88 99]\n"
     ]
    }
   ],
   "source": [
    "H=np.random.randint(20,size=(3,3))\n",
    "H1=np.cumsum(H)\n",
    "print(H)\n",
    "print(\"=========================================================================\")\n",
    "\n",
    "print(H1)"
   ]
  },
  {
   "cell_type": "markdown",
   "id": "lightweight-madison",
   "metadata": {},
   "source": [
    "\n",
    "# Exercise 29:\n",
    "\n",
    "Create a NumPy array of random integers and sort it in ascending order.\n"
   ]
  },
  {
   "cell_type": "code",
   "execution_count": 19,
   "id": "coupled-noise",
   "metadata": {},
   "outputs": [
    {
     "name": "stdout",
     "output_type": "stream",
     "text": [
      "[[ 3  7 18]\n",
      " [ 3  8 10]\n",
      " [ 2 18 18]]\n"
     ]
    }
   ],
   "source": [
    "H.sort()\n",
    "print`b(H)"
   ]
  },
  {
   "cell_type": "markdown",
   "id": "american-studio",
   "metadata": {},
   "source": [
    "\n",
    "# Exercise 30:\n",
    "\n",
    "Find the row-wise and column-wise sum of a 3x3 matrix.\n"
   ]
  },
  {
   "cell_type": "code",
   "execution_count": 54,
   "id": "adequate-antenna",
   "metadata": {},
   "outputs": [
    {
     "name": "stdout",
     "output_type": "stream",
     "text": [
      "[[ 1 18 14 10  8]\n",
      " [ 8  9  7 18 15]\n",
      " [ 1  0  9  0  1]\n",
      " [ 7  9 17 16  7]\n",
      " [ 3 17 12  0 15]]\n",
      "=========================================================================\n",
      "[[ 4  8  3  8  4]\n",
      " [ 9 13 17  1 13]\n",
      " [13  3  8 18 12]\n",
      " [16  0  8 14 15]\n",
      " [16  9  1 10  2]]\n",
      "=========================================================================\n",
      "[[ 5 26 17 18 12]\n",
      " [17 22 24 19 28]\n",
      " [14  3 17 18 13]\n",
      " [23  9 25 30 22]\n",
      " [19 26 13 10 17]]\n"
     ]
    }
   ],
   "source": [
    "H2=np.random.randint(20,size=(5,5))\n",
    "H3=np.random.randint(20,size=(5,5))\n",
    "print(H2)\n",
    "print(\"=========================================================================\")\n",
    "\n",
    "print(H3)\n",
    "print(\"=========================================================================\")\n",
    "print(H2+H3)"
   ]
  },
  {
   "cell_type": "markdown",
   "id": "mathematical-moore",
   "metadata": {},
   "source": [
    "# exercise31\n",
    "Generate a 2D NumPy array with random values and normalize it (scale the values between 0 and 1).\n"
   ]
  },
  {
   "cell_type": "code",
   "execution_count": 29,
   "id": "hybrid-metadata",
   "metadata": {
    "scrolled": true
   },
   "outputs": [
    {
     "name": "stdout",
     "output_type": "stream",
     "text": [
      "[[0.51898395 0.04682326]\n",
      " [0.66214121 0.07257322]]\n",
      "=========================================================================\n",
      "[0.52109189 0.66610649]\n"
     ]
    }
   ],
   "source": [
    "H2=np.random.random((2,2))\n",
    "H3=np.linalg.norm(H2,axis=1)\n",
    "print(H2)\n",
    "print(\"=========================================================================\")\n",
    "print(H3)"
   ]
  },
  {
   "cell_type": "markdown",
   "id": "collectible-suicide",
   "metadata": {},
   "source": [
    "# Exercise 32:\n",
    "\n",
    "Create two NumPy arrays and find the dot product.\n",
    "\n",
    "\n"
   ]
  },
  {
   "cell_type": "code",
   "execution_count": 52,
   "id": "touched-plastic",
   "metadata": {
    "scrolled": true
   },
   "outputs": [
    {
     "name": "stdout",
     "output_type": "stream",
     "text": [
      "[[2 1 1 2 1]\n",
      " [4 3 4 1 3]\n",
      " [1 3 2 0 4]\n",
      " [3 3 2 0 4]\n",
      " [3 3 3 1 1]]\n",
      "=========================================================================\n",
      "[[3 4 4 3 1]\n",
      " [1 3 0 0 2]\n",
      " [0 1 0 3 2]\n",
      " [4 1 4 3 0]\n",
      " [3 0 4 4 4]]\n",
      "=========================================================================\n",
      "[[18 14 20 19 10]\n",
      " [28 30 32 39 30]\n",
      " [18 15 20 25 27]\n",
      " [24 23 28 31 29]\n",
      " [19 25 20 25 19]]\n"
     ]
    }
   ],
   "source": [
    "H4=np.random.randint(5,size=(5,5))\n",
    "H5=np.random.randint(5,size=(5,5))\n",
    "H6=np.dot(H4,H5)\n",
    "print(H4)\n",
    "print(\"=========================================================================\")\n",
    "\n",
    "print(H5)\n",
    "print(\"=========================================================================\")\n",
    "\n",
    "print(H6)"
   ]
  },
  {
   "cell_type": "markdown",
   "id": "incorporate-bobby",
   "metadata": {},
   "source": [
    "# Exercise 33:\n",
    "\n",
    "Find the trace of a square NumPy matrix.\n",
    "\n"
   ]
  },
  {
   "cell_type": "code",
   "execution_count": 33,
   "id": "emerging-proof",
   "metadata": {},
   "outputs": [
    {
     "name": "stdout",
     "output_type": "stream",
     "text": [
      "107\n"
     ]
    }
   ],
   "source": [
    "H7=np.trace(H6)\n",
    "print(H7)"
   ]
  },
  {
   "cell_type": "markdown",
   "id": "photographic-spider",
   "metadata": {},
   "source": [
    "\n",
    "# Exercise 34:\n",
    "\n",
    "Create a 2D array and swap two rows.\n",
    "\n",
    "\n"
   ]
  },
  {
   "cell_type": "code",
   "execution_count": 39,
   "id": "grand-rebound",
   "metadata": {},
   "outputs": [
    {
     "name": "stdout",
     "output_type": "stream",
     "text": [
      "[[4 2]\n",
      " [3 3]]\n",
      "[[3 3]\n",
      " [4 2]]\n"
     ]
    }
   ],
   "source": [
    "H8=np.random.randint(5,size=(2,2))\n",
    "H9= H8[[1, 0]]\n",
    "print(H8)\n",
    "print(H9)"
   ]
  },
  {
   "cell_type": "markdown",
   "id": "worth-advice",
   "metadata": {},
   "source": [
    "# Exercise 35:\n",
    "\n",
    "Create a 1D NumPy array and convert it into a column vector.\n",
    "\n",
    "\n"
   ]
  },
  {
   "cell_type": "code",
   "execution_count": 49,
   "id": "regulation-prediction",
   "metadata": {},
   "outputs": [
    {
     "name": "stdout",
     "output_type": "stream",
     "text": [
      "[1 2 3 4 5 6 7 8 9]\n"
     ]
    }
   ],
   "source": [
    "H8=np.array([1,2,3,4,5,6,7,8,9])\n",
    "colum=H8[:,np.newaxis]\n",
    "print(H8)"
   ]
  },
  {
   "cell_type": "markdown",
   "id": "coupled-dating",
   "metadata": {},
   "source": [
    "# Exercise 36:\n",
    "\n",
    "Find the determinant of a 3x3 matrix.\n",
    "\n",
    "\n"
   ]
  },
  {
   "cell_type": "code",
   "execution_count": 51,
   "id": "durable-capacity",
   "metadata": {},
   "outputs": [
    {
     "name": "stdout",
     "output_type": "stream",
     "text": [
      "[[4 4 3]\n",
      " [3 2 3]\n",
      " [4 4 4]]\n",
      "=========================================================================\n",
      "-4.0\n"
     ]
    }
   ],
   "source": [
    "H8=np.random.randint(5,size=(3,3))\n",
    "det_H8=np.linalg.det(H8)\n",
    "print(H8)\n",
    "print(\"=========================================================================\")\n",
    "\n",
    "print(det_H8)"
   ]
  }
 ],
 "metadata": {
  "kernelspec": {
   "display_name": "Python 3",
   "language": "python",
   "name": "python3"
  },
  "language_info": {
   "codemirror_mode": {
    "name": "ipython",
    "version": 3
   },
   "file_extension": ".py",
   "mimetype": "text/x-python",
   "name": "python",
   "nbconvert_exporter": "python",
   "pygments_lexer": "ipython3",
   "version": "3.9.2"
  }
 },
 "nbformat": 4,
 "nbformat_minor": 5
}
