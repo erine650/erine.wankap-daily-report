{
 "cells": [
  {
   "cell_type": "markdown",
   "id": "established-daisy",
   "metadata": {},
   "source": [
    "# October 1, 2024\n",
    "# 1 Summations and Products\n",
    "#1. Compute the following expressions for a natural number n chosen by the user:\n",
    "#(i) \\sum_{i=0}^{n-1} i+3\n"
   ]
  },
  {
   "cell_type": "code",
   "execution_count": 11,
   "id": "moral-roads",
   "metadata": {},
   "outputs": [
    {
     "name": "stdout",
     "output_type": "stream",
     "text": [
      "Enter the number n 3\n",
      "The sum of the odd number is:  4\n"
     ]
    }
   ],
   "source": [
    "n= int(input(\"Enter the number n \"))\n",
    "summ=0\n",
    "i=0\n",
    "\n",
    "while(i<=n-1):\n",
    "    if(i%2==1):\n",
    "        summ = summ+ i+3\n",
    "    i=i+1\n",
    "    \n",
    "print(\"The sum of the odd number is: \", summ)"
   ]
  },
  {
   "cell_type": "markdown",
   "id": "nutritional-drama",
   "metadata": {},
   "source": [
    "#Product of the even numbers"
   ]
  },
  {
   "cell_type": "code",
   "execution_count": 10,
   "id": "exciting-iraqi",
   "metadata": {},
   "outputs": [
    {
     "name": "stdout",
     "output_type": "stream",
     "text": [
      "Enter the number n 23\n",
      "The product of the evem number is:  7905853580625\n"
     ]
    }
   ],
   "source": [
    "n= int(input(\"Enter the number n \"))\n",
    "p_num=1\n",
    "i=0\n",
    "\n",
    "while(i<=n-1):\n",
    "    if(i%2==0):\n",
    "        p_num= (p_num )*(i+3)\n",
    "    i=i+1\n",
    "    \n",
    "print(\"The product of the evem number is: \", p_num)"
   ]
  },
  {
   "cell_type": "markdown",
   "id": "enclosed-combination",
   "metadata": {},
   "source": [
    "#Write a program that reads the number of the day of the week (from 0 to 6). If it is a\n",
    "working day, then the program will write the name of the corresponding day. Otherwise,\n",
    "it will write the word \"Weekend\""
   ]
  },
  {
   "cell_type": "code",
   "execution_count": 12,
   "id": "outer-regulation",
   "metadata": {},
   "outputs": [
    {
     "name": "stdout",
     "output_type": "stream",
     "text": [
      "Enter the  good number of the day7\n",
      "Try again, enter the good number of day\n"
     ]
    }
   ],
   "source": [
    "n= int(input(\"Enter the  good number of the day\"))\n",
    "if (n==0):\n",
    "    print(\"Today we are at the weekend\")\n",
    "if (n==6):\n",
    "    print(\"Today we are at the weekend\")\n",
    "if (n==1):\n",
    "    print(\"Today is Monday\")\n",
    "if (n==2):\n",
    "    print(\"Today is Tuesday\")\n",
    "if (n==3):\n",
    "    print(\"Today is Wenesday\")\n",
    "if (n==4):\n",
    "    print(\"Today is Thursday\")\n",
    "if (n==5):\n",
    "    print(\"Today is Friday\")\n",
    "else:\n",
    "    print(\"Try again, enter the good number of day\")\n",
    "\n",
    "\n"
   ]
  },
  {
   "cell_type": "markdown",
   "id": "minor-consideration",
   "metadata": {},
   "source": [
    "#ake a program that, given a month number (from 0 to 11), indicates how many days it\n",
    "has (28, 30 or 31), ignoring the leap years."
   ]
  },
  {
   "cell_type": "code",
   "execution_count": 14,
   "id": "naughty-berry",
   "metadata": {
    "scrolled": true
   },
   "outputs": [
    {
     "name": "stdout",
     "output_type": "stream",
     "text": [
      "Enter the  good number of the months0\n",
      "The months of:  January have 31 days\n",
      "Try again\n"
     ]
    }
   ],
   "source": [
    "n= int(input(\"Enter the  good number of the months\"))\n",
    "lis_months=[\"January\",\"Febuary\",\"march\",\"April\",\"May\",\"June\",\"July\",\"August\",\"September\",\"October\",\"November\",\"December\"]\n",
    "if (n==lis_months.index(\"January\")):\n",
    "    print(\"The months of: \", lis_months[0], \"have 31 days\")\n",
    "if (n==lis_months.index(\"march\")):\n",
    "    print(\"The months of: \", lis_months[2], \"have 31 days\")\n",
    "if (n==lis_months.index(\"May\")):\n",
    "    print(\"The months of: \", lis_months[4], \"have 31 days\")\n",
    "if (n==lis_months.index(\"July\")):\n",
    "    print(\"The months of: \", lis_months[6], \"have 31 days\")\n",
    "if (n==lis_months.index(\"August\")):\n",
    "    print(\"The months of: \", lis_months[7], \"have 31 days\")\n",
    "if (n==lis_months.index(\"October\")):\n",
    "    print(\"The months of: \", lis_months[9], \"have 31 days\")\n",
    "if (n==lis_months.index(\"December\")):\n",
    "    print(\"The months of: \", lis_months[11], \"have 31 days\")\n",
    "if (n==lis_months.index(\"Febuary\")):\n",
    "    print(\"The months of: \", lis_months[1], \"have 28 days\")\n",
    "if (n==lis_months.index(\"April\")):\n",
    "    print(\"The months of: \", lis_months[3], \"have 30 days\")\n",
    "if (n==lis_months.index(\"September\")):\n",
    "     print(\"The months of: \", lis_months[8], \"have 30 days\")\n",
    "if (n==lis_months.index(\"June\")):\n",
    "    print(\"The months of: \", lis_months[5], \"have 30 days\")\n",
    "if (n==lis_months.index(\"November\")):\n",
    "     print(\"The months of: \", lis_months[10], \"have 30 days\")\n",
    "else:\n",
    "    print(\"Try again\")\n",
    "\n",
    "\n",
    "\n",
    "\n"
   ]
  },
  {
   "cell_type": "code",
   "execution_count": null,
   "id": "accurate-carol",
   "metadata": {
    "scrolled": true
   },
   "outputs": [],
   "source": [
    "lis_months.index(\"January\")"
   ]
  },
  {
   "cell_type": "markdown",
   "id": "sublime-mixer",
   "metadata": {},
   "source": [
    "#4. Write two versions of python code that displays your name 3 times. One version with a\n",
    "\"for loop\" and another version with a \"while loop\""
   ]
  },
  {
   "cell_type": "code",
   "execution_count": null,
   "id": "relative-summary",
   "metadata": {},
   "outputs": [],
   "source": [
    "i=1\n",
    "while(i<=3):\n",
    "    print(\"TOUKAP ERINE\")\n",
    "    i=i+1\n",
    "        "
   ]
  },
  {
   "cell_type": "code",
   "execution_count": null,
   "id": "secondary-laptop",
   "metadata": {},
   "outputs": [],
   "source": [
    "for i in range(3):\n",
    "   print(\"Toukap erine\")"
   ]
  },
  {
   "cell_type": "markdown",
   "id": "pleasant-operator",
   "metadata": {},
   "source": [
    " #5.Given two numbers a0 and a1, the Fibonacci sequence they generate is constructed from\n",
    "the recursion formula an+1 = an + an−1. Calculate the first 15 terms of a Fibonacci\n",
    "sequence, asking the user the initial values."
   ]
  },
  {
   "cell_type": "code",
   "execution_count": null,
   "id": "vital-contract",
   "metadata": {},
   "outputs": [],
   "source": [
    "n=int(input(\"Enter the initial value\"))\n",
    "m= int(input(\"Enter the second initial value\"))\n",
    "print(n)\n",
    "print(m)\n",
    "for i in range(13):\n",
    "    summ= n+m\n",
    "    print(summ)\n",
    "    n=m\n",
    "    m=summ\n"
   ]
  },
  {
   "cell_type": "markdown",
   "id": "uniform-contract",
   "metadata": {},
   "source": [
    "#6.Compute the first 30 terms of the sequence defined by 2xn+2 − xn+1 − 6xn = 0 sequence,\n",
    "given any two initial values x0 and x"
   ]
  },
  {
   "cell_type": "code",
   "execution_count": 1,
   "id": "polyphonic-chain",
   "metadata": {},
   "outputs": [
    {
     "name": "stdout",
     "output_type": "stream",
     "text": [
      "Enter the initial value2\n",
      "Enter the second initial value2\n",
      "2\n",
      "2\n",
      "7.0\n",
      "9.5\n",
      "25.75\n",
      "41.375\n",
      "97.9375\n",
      "173.09375\n",
      "380.359375\n",
      "709.4609375\n",
      "1495.80859375\n",
      "2876.287109375\n",
      "5925.5693359375\n",
      "11591.64599609375\n",
      "23572.531005859375\n",
      "46561.20349121094\n",
      "93998.1947631836\n",
      "186682.7078552246\n",
      "375335.9382171631\n",
      "747716.0926742554\n",
      "1499865.860988617\n",
      "2993081.2085170746\n",
      "5996138.187224388\n",
      "11977312.719163418\n",
      "23977070.921254873\n",
      "47920473.61811769\n",
      "95891449.57282346\n",
      "191707145.6407648\n",
      "383527921.5388528\n",
      "766885397.6917207\n"
     ]
    }
   ],
   "source": [
    "x0=int(input(\"Enter the initial value\"))\n",
    "x= int(input(\"Enter the second initial value\"))\n",
    "print(x0)\n",
    "print(x)\n",
    "for i in range(28):\n",
    "    summ= 0.5*(x+6*x0)\n",
    "    print(summ)\n",
    "    x0=x\n",
    "    x=summ"
   ]
  },
  {
   "cell_type": "markdown",
   "id": "necessary-niger",
   "metadata": {},
   "source": [
    "#7. a) Write python code to determine whether or not a year is a leap year. Be sure you\n",
    "know what a leap year is"
   ]
  },
  {
   "cell_type": "code",
   "execution_count": 15,
   "id": "equal-lotus",
   "metadata": {},
   "outputs": [
    {
     "name": "stdout",
     "output_type": "stream",
     "text": [
      "Enter the year1900\n",
      "This year is not the leap year\n"
     ]
    }
   ],
   "source": [
    "x=int(input(\"Enter the year\"))\n",
    "if (x%4==0 and x%100!=0 or x%400==0 and x%4==0 and x%100==0):\n",
    "    print(\"This is the leap year\")\n",
    "else:\n",
    "    print(\"This year is not the leap year\")\n"
   ]
  },
  {
   "cell_type": "markdown",
   "id": "little-wealth",
   "metadata": {},
   "source": [
    "#8. a) Write python code that computes the sum of the square of the first n natural numbers.\n",
    "One version with a \"for loop\" and another version with a \"while loop\""
   ]
  },
  {
   "cell_type": "code",
   "execution_count": 5,
   "id": "handmade-adams",
   "metadata": {},
   "outputs": [
    {
     "name": "stdout",
     "output_type": "stream",
     "text": [
      "Enter the maximal value of the sum 4\n",
      "The sum of the   4 first square of natural number is:  30\n"
     ]
    }
   ],
   "source": [
    "n=int(input(\"Enter the maximal value of the sum \"))\n",
    "summ=0\n",
    "for i in range(n+1):\n",
    "    summ= summ + i*i\n",
    "print(\"The sum of the  \", n, \"first square of natural number is: \", summ)"
   ]
  },
  {
   "cell_type": "code",
   "execution_count": 9,
   "id": "starting-piece",
   "metadata": {},
   "outputs": [
    {
     "name": "stdout",
     "output_type": "stream",
     "text": [
      "Enter the maximal value of the sum 3\n",
      "The sum of the   3 first square of natural number is:  14\n"
     ]
    }
   ],
   "source": [
    "n=int(input(\"Enter the maximal value of the sum \"))\n",
    "add=0\n",
    "i=0\n",
    "while (i<=n):\n",
    "    add= add + i*i\n",
    "    i=i+1\n",
    "print(\"The sum of the  \", n, \"first square of natural number is: \", add)"
   ]
  },
  {
   "cell_type": "markdown",
   "id": "frank-algeria",
   "metadata": {},
   "source": [
    "#8.b) Write python code that prints, for a natural number M , the smallest natural number\n",
    "n such that 12 + 22 + · · · + n2 ≥ M. One version with a \"for loop\" and another version\n",
    "with a \"while loop\"."
   ]
  },
  {
   "cell_type": "code",
   "execution_count": 17,
   "id": "opponent-seafood",
   "metadata": {},
   "outputs": [
    {
     "name": "stdout",
     "output_type": "stream",
     "text": [
      "Enter the value of n 6\n",
      "The least valeur is  3\n"
     ]
    }
   ],
   "source": [
    "n=int(input(\"Enter the value of n \"))\n",
    "s=0\n",
    "for i in range(n):\n",
    "    s=s + i**2 \n",
    "    if ( s>=n ):\n",
    "        print( \"The least valeur is \", i )\n",
    "        break\n"
   ]
  },
  {
   "cell_type": "code",
   "execution_count": 22,
   "id": "structural-sugar",
   "metadata": {},
   "outputs": [
    {
     "name": "stdout",
     "output_type": "stream",
     "text": [
      "Enter the value of n 6\n",
      "The least valeur is  3\n"
     ]
    }
   ],
   "source": [
    "n=int(input(\"Enter the value of n \"))\n",
    "s=0\n",
    "i=0\n",
    "while (s<n):\n",
    "    i=i+1\n",
    "    s=s + i**2 \n",
    "print( \"The least valeur is \", i )\n",
    "        \n",
    "    "
   ]
  },
  {
   "cell_type": "markdown",
   "id": "sixth-convention",
   "metadata": {},
   "source": [
    "#9. a) Write python code that prints all the divisors of a given natural number."
   ]
  },
  {
   "cell_type": "code",
   "execution_count": 36,
   "id": "small-history",
   "metadata": {},
   "outputs": [
    {
     "name": "stdout",
     "output_type": "stream",
     "text": [
      "Enter the value of n: 10\n",
      "All the divisor of the number n is:  1\n",
      "All the divisor of the number n is:  2\n",
      "All the divisor of the number n is:  5\n",
      "All the divisor of the number n is:  10\n"
     ]
    }
   ],
   "source": [
    "n=int(input(\"Enter the value of n: \"))\n",
    "i=1\n",
    "while (i<=n):\n",
    "    if(n%i==0):\n",
    "        print(\"All the divisor of the number n is: \", i)\n",
    "    i=i+1"
   ]
  },
  {
   "cell_type": "markdown",
   "id": "natural-thumbnail",
   "metadata": {},
   "source": [
    "#10. Read an integer number between n 0 and 9 and print its multiplication table up to N\n",
    "where N is another another natural number read by the program."
   ]
  },
  {
   "cell_type": "code",
   "execution_count": 49,
   "id": "boxed-proposal",
   "metadata": {},
   "outputs": [
    {
     "name": "stdout",
     "output_type": "stream",
     "text": [
      "Enter the value of n: 10\n",
      "Enter the order of multiplication m: 9\n",
      "Try again enter the number between 0 and 9\n"
     ]
    }
   ],
   "source": [
    "n=int(input(\"Enter the value of n: \"))\n",
    "m= int(input(\"Enter the order of multiplication m: \"))\n",
    "if (n<=9):\n",
    "    i=0\n",
    "    while i<=m:\n",
    "        print(\"{}x{}={}\".format(i,n,i*n))\n",
    "        i=i+1\n",
    "else:\n",
    "    print(\"Try again enter the number between 0 and 9\")"
   ]
  },
  {
   "cell_type": "markdown",
   "id": "difficult-hunter",
   "metadata": {},
   "source": [
    "#11.Write a program that prints all the numbers between 0 and 40 that are multiples of 3, 7\n",
    "or 11."
   ]
  },
  {
   "cell_type": "code",
   "execution_count": 53,
   "id": "extra-sarah",
   "metadata": {},
   "outputs": [
    {
     "name": "stdout",
     "output_type": "stream",
     "text": [
      "The multiple of 3 or 7 or 11 between 0 and 40 are:\n",
      "0\n",
      "3\n",
      "6\n",
      "7\n",
      "9\n",
      "11\n",
      "12\n",
      "14\n",
      "15\n",
      "18\n",
      "21\n",
      "22\n",
      "24\n",
      "27\n",
      "28\n",
      "30\n",
      "33\n",
      "35\n",
      "36\n",
      "39\n"
     ]
    }
   ],
   "source": [
    "#n= int(input(\"Enter the value of \"))\n",
    "print(\"The multiple of 3 or 7 or 11 between 0 and 40 are:\")\n",
    "for i in range(40):\n",
    "    if(i%3==0 or i%7==0 or i%11==0):\n",
    "        print(i)\n",
    " "
   ]
  },
  {
   "cell_type": "code",
   "execution_count": null,
   "id": "perfect-auckland",
   "metadata": {},
   "outputs": [],
   "source": []
  }
 ],
 "metadata": {
  "kernelspec": {
   "display_name": "Python 3",
   "language": "python",
   "name": "python3"
  },
  "language_info": {
   "codemirror_mode": {
    "name": "ipython",
    "version": 3
   },
   "file_extension": ".py",
   "mimetype": "text/x-python",
   "name": "python",
   "nbconvert_exporter": "python",
   "pygments_lexer": "ipython3",
   "version": "3.9.2"
  }
 },
 "nbformat": 4,
 "nbformat_minor": 5
}
