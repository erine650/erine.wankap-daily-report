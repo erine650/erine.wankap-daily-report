{
 "cells": [
  {
   "cell_type": "markdown",
   "id": "arctic-tracker",
   "metadata": {},
   "source": [
    "## PyPro: challenge 1¶\n",
    "This challenge is due on Sunday 29th September 2024 at 8pm.\n",
    "\n",
    "These exercises provide a wide range of challenges that test your understanding of Python's core concepts, such as control structures, data types, string manipulations, list comprehensions, and higher-order functions."
   ]
  },
  {
   "cell_type": "markdown",
   "id": "monthly-ecology",
   "metadata": {},
   "source": [
    "\n",
    "#1.Create a function find_max() that accepts two numeric inputs and returns the greater value. Avoid using the built-in max() function.\n"
   ]
  },
  {
   "cell_type": "code",
   "execution_count": 4,
   "id": "numerous-intensity",
   "metadata": {},
   "outputs": [
    {
     "name": "stdout",
     "output_type": "stream",
     "text": [
      "Enter the first value n -19.45\n",
      "Enter the second value m -20\n",
      "The max value is: -19.45\n"
     ]
    }
   ],
   "source": [
    "def find_max():\n",
    "    n=float(input(\"Enter the first value n \"))\n",
    "    m= float(input(\"Enter the second value m \"))\n",
    "    if (n<m):\n",
    "        print(\"The max value is:\", m)\n",
    "    else:\n",
    "        print(\"The max value is:\", n)\n",
    "        \n",
    "find_max()       \n",
    "        "
   ]
  },
  {
   "cell_type": "markdown",
   "id": "suburban-security",
   "metadata": {},
   "source": [
    "#Develop a function find_max_of_three() to find the maximum among three given numbers."
   ]
  },
  {
   "cell_type": "code",
   "execution_count": 1,
   "id": "demonstrated-shark",
   "metadata": {},
   "outputs": [
    {
     "name": "stdout",
     "output_type": "stream",
     "text": [
      "Enter the first value x 45\n",
      "Enter the second value y 90\n",
      "Enter the first value z 90.67\n",
      "The max value is: 90.67\n"
     ]
    }
   ],
   "source": [
    "def function_max_of_three():\n",
    "    x=float(input(\"Enter the first value x \"))\n",
    "    y= float(input(\"Enter the second value y \"))\n",
    "    z=float(input(\"Enter the first value z \"))\n",
    "    if (x<z) and (y<z):\n",
    "        print(\"The max value is:\", z)\n",
    "    else :\n",
    "        if (y<x) and (z<x):\n",
    "            print(\"The max value is:\", x)   \n",
    "        else: \n",
    "            print(\"The max value is:\", y)   \n",
    "function_max_of_three()         "
   ]
  },
  {
   "cell_type": "markdown",
   "id": "dried-torture",
   "metadata": {},
   "source": [
    "#Write a function to manually calculate the length of a given list or string without using len()."
   ]
  },
  {
   "cell_type": "code",
   "execution_count": 9,
   "id": "vocal-harvard",
   "metadata": {},
   "outputs": [
    {
     "name": "stdout",
     "output_type": "stream",
     "text": [
      "4\n"
     ]
    }
   ],
   "source": [
    "def heightfunction(string):\n",
    "    l=0\n",
    "    for i in string:\n",
    "        l+=1\n",
    "    return(l)   \n",
    "print(heightfunction('blue'))"
   ]
  },
  {
   "cell_type": "markdown",
   "id": "approximate-mason",
   "metadata": {},
   "source": [
    "#4.Implement a function that checks if a given character is a vowel (a, e, i, o, u)."
   ]
  },
  {
   "cell_type": "code",
   "execution_count": 22,
   "id": "billion-silicon",
   "metadata": {},
   "outputs": [
    {
     "name": "stdout",
     "output_type": "stream",
     "text": [
      "Enter your wordso\n",
      "we have the vowels o\n"
     ]
    }
   ],
   "source": [
    "def checks_vowel():\n",
    "    n=input(\"Enter your words\")\n",
    "    l=[\"u\",\"a\",\"e\",\"i\",\"o\"]\n",
    "    #vowel=str(n)\n",
    "    for i in n:\n",
    "        if i in l:\n",
    "            print(\"we have the vowels\",i)\n",
    "        else:\n",
    "            print(\"we have not a vowels in this words\")\n",
    "checks_vowel()    \n",
    "    "
   ]
  },
  {
   "cell_type": "code",
   "execution_count": 23,
   "id": "israeli-sustainability",
   "metadata": {},
   "outputs": [
    {
     "ename": "SyntaxError",
     "evalue": "invalid syntax (<ipython-input-23-f12cba14cae1>, line 3)",
     "output_type": "error",
     "traceback": [
      "\u001b[0;36m  File \u001b[0;32m\"<ipython-input-23-f12cba14cae1>\"\u001b[0;36m, line \u001b[0;32m3\u001b[0m\n\u001b[0;31m    if a=a[:-1]:\u001b[0m\n\u001b[0m        ^\u001b[0m\n\u001b[0;31mSyntaxError\u001b[0m\u001b[0;31m:\u001b[0m invalid syntax\n"
     ]
    }
   ],
   "source": [
    "def bacward():\n",
    "    n=input(\"Enter your words\")\n",
    "    if a=a[:-1]:\n",
    "        print(\"this is word is palliondrome word\")\n",
    "    else:\n",
    "        print(\"this is word is not a palliondrome word\")\n",
    "bacward()                      "
   ]
  }
 ],
 "metadata": {
  "kernelspec": {
   "display_name": "Python 3",
   "language": "python",
   "name": "python3"
  },
  "language_info": {
   "codemirror_mode": {
    "name": "ipython",
    "version": 3
   },
   "file_extension": ".py",
   "mimetype": "text/x-python",
   "name": "python",
   "nbconvert_exporter": "python",
   "pygments_lexer": "ipython3",
   "version": "3.9.2"
  }
 },
 "nbformat": 4,
 "nbformat_minor": 5
}
